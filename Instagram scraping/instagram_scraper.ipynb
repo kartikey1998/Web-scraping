{
 "cells": [
  {
   "cell_type": "code",
   "execution_count": 1,
   "id": "ed23d872",
   "metadata": {},
   "outputs": [],
   "source": [
    "from selenium import webdriver\n",
    "from selenium.webdriver.common.by import By\n",
    "from selenium.webdriver.support.ui import WebDriverWait\n",
    "from selenium.webdriver.support import expected_conditions as EC\n",
    "from selenium.webdriver.common.keys import Keys\n",
    "import time\n",
    "import os\n",
    "import wget"
   ]
  },
  {
   "cell_type": "code",
   "execution_count": 2,
   "id": "a62957c7",
   "metadata": {},
   "outputs": [
    {
     "name": "stdout",
     "output_type": "stream",
     "text": [
      "name of any persontarunchhipa\n",
      "whats your instagram IDkartikey_chhipa\n",
      "whats your passwordJ67W2Vs-!FZJUge\n"
     ]
    }
   ],
   "source": [
    "keyword = input(\"name of any person or Celebrity\")\n",
    "id = input('whats your instagram ID')\n",
    "paswrd = input(\"whats your password\")\n"
   ]
  },
  {
   "cell_type": "code",
   "execution_count": 13,
   "id": "6fc50367",
   "metadata": {},
   "outputs": [],
   "source": [
    "driver = webdriver.Edge('D:/Softwares/edgedriver_win64/msedgedriver.exe')\n",
    "driver.get('https://www.instagram.com/')"
   ]
  },
  {
   "cell_type": "code",
   "execution_count": 14,
   "id": "2daf30db",
   "metadata": {},
   "outputs": [],
   "source": [
    "username = WebDriverWait(driver, 10).until(EC.element_to_be_clickable((By.CSS_SELECTOR, \"input[name='username']\")))\n",
    "password = WebDriverWait(driver, 10).until(EC.element_to_be_clickable((By.CSS_SELECTOR, \"input[name='password']\")))\n",
    "username.clear()\n",
    "password.clear()\n",
    "username.send_keys(id)\n",
    "password.send_keys(paswrd)"
   ]
  },
  {
   "cell_type": "code",
   "execution_count": 15,
   "id": "4bcd47bb",
   "metadata": {},
   "outputs": [],
   "source": [
    "login = WebDriverWait(driver, 10).until(EC.element_to_be_clickable((By.CSS_SELECTOR, \"button[type='submit']\"))).click()\n"
   ]
  },
  {
   "cell_type": "code",
   "execution_count": 16,
   "id": "012c1769",
   "metadata": {},
   "outputs": [],
   "source": [
    "not_now = WebDriverWait(driver, 10).until(EC.element_to_be_clickable((By.XPATH, \"//button[contains(text(), 'Not Now')]\"))).click()\n",
    "not_now2 = WebDriverWait(driver, 10).until(EC.element_to_be_clickable((By.XPATH, \"//button[contains(text(), 'Not Now')]\"))).click()\n"
   ]
  },
  {
   "cell_type": "code",
   "execution_count": 22,
   "id": "6b372d5d",
   "metadata": {},
   "outputs": [],
   "source": [
    "#search = WebDriverWait(driver, 10).until(EC.element_to_be_clickable((By.CSS_SELECTOR, \"input[placeholder='Search']\")))\n",
    "search = WebDriverWait(driver, 10).until(EC.element_to_be_clickable((By.XPATH, \"//input[@placeholder='Search']\")))\n",
    "search.clear()\n",
    "search.send_keys(keyword)"
   ]
  },
  {
   "cell_type": "code",
   "execution_count": 23,
   "id": "46ebb400",
   "metadata": {},
   "outputs": [],
   "source": [
    "time.sleep(3)\n",
    "search.send_keys(Keys.ENTER)\n",
    "time.sleep(1)\n",
    "search.send_keys(Keys.ENTER)"
   ]
  },
  {
   "cell_type": "code",
   "execution_count": 24,
   "id": "d0b71797",
   "metadata": {},
   "outputs": [],
   "source": [
    "n_scrolls = 3\n",
    "for i in range(1, n_scrolls):\n",
    "    driver.execute_script(\"window.scrollTo(0, document.body.scrollHeight);\")\n",
    "    time.sleep(3)"
   ]
  },
  {
   "cell_type": "code",
   "execution_count": 25,
   "id": "01d2cba2",
   "metadata": {
    "scrolled": true
   },
   "outputs": [
    {
     "data": {
      "text/plain": [
       "['https://scontent-bom1-2.cdninstagram.com/v/t51.2885-19/s320x320/120195604_1694584514040522_8899098148726247907_n.jpg?tp=1&_nc_ht=scontent-bom1-2.cdninstagram.com&_nc_ohc=4ERB5LUw5vAAX-69jeO&edm=ABfd0MgBAAAA&ccb=7-4&oh=920a18d73641d9e4d4211fd0e92c939d&oe=60AE8CAD&_nc_sid=7bff83',\n",
       " 'https://scontent-bom1-1.cdninstagram.com/v/t51.2885-15/e15/s480x480/128731330_1845084558972745_5684882090239157593_n.jpg?tp=1&_nc_ht=scontent-bom1-1.cdninstagram.com&_nc_cat=101&_nc_ohc=IgI91EavpHEAX_Qw0oy&edm=ABfd0MgBAAAA&ccb=7-4&oh=bcf29146dde2825ece76a82b3fe90f4f&oe=60AF5641&_nc_sid=7bff83',\n",
       " 'https://scontent-bom1-2.cdninstagram.com/v/t51.2885-15/e35/s480x480/116348380_1189188378092481_4911997210392171870_n.jpg?tp=1&_nc_ht=scontent-bom1-2.cdninstagram.com&_nc_cat=109&_nc_ohc=VcBF4l7JsZEAX_28PMi&edm=ABfd0MgBAAAA&ccb=7-4&oh=877c488afa5cbc4eb492c1578ec53956&oe=60AFD3B6&_nc_sid=7bff83',\n",
       " 'https://scontent-bom1-2.cdninstagram.com/v/t51.2885-15/e35/c104.0.871.871a/s480x480/116132455_302151117564744_6827135107766487603_n.jpg?tp=1&_nc_ht=scontent-bom1-2.cdninstagram.com&_nc_cat=100&_nc_ohc=orexb80UhkwAX95bsRJ&edm=ABfd0MgBAAAA&ccb=7-4&oh=f47284c7df4e03ba9a1cc5c52bdaab2a&oe=60AEEF14&_nc_sid=7bff83',\n",
       " 'https://scontent-bom1-1.cdninstagram.com/v/t51.2885-15/e35/s480x480/97295650_2546941218881186_601120354432699962_n.jpg?tp=1&_nc_ht=scontent-bom1-1.cdninstagram.com&_nc_cat=102&_nc_ohc=MveKVeH1GCEAX_gKley&edm=ABfd0MgBAAAA&ccb=7-4&oh=43d03f0e1be305aa42bfd5a620c4e2f9&oe=60B142E6&_nc_sid=7bff83',\n",
       " 'https://scontent-bom1-2.cdninstagram.com/v/t51.2885-15/e35/s480x480/97949061_172997187410913_3835593162493008518_n.jpg?tp=1&_nc_ht=scontent-bom1-2.cdninstagram.com&_nc_cat=109&_nc_ohc=ueGaSHGB1O0AX8ug4of&edm=ABfd0MgBAAAA&ccb=7-4&oh=eea2c6f1850b003ffc6e45651bfb779a&oe=60B04F73&_nc_sid=7bff83',\n",
       " 'https://scontent-bom1-2.cdninstagram.com/v/t51.2885-15/e35/c135.0.810.810a/s480x480/96724473_708625103297772_8286358504088487836_n.jpg?tp=1&_nc_ht=scontent-bom1-2.cdninstagram.com&_nc_cat=100&_nc_ohc=cb7OqBYh85EAX_jzAIq&tn=W3D16W82FblJ4AqS&edm=ABfd0MgBAAAA&ccb=7-4&oh=2ebf87709adacc34c48e742412026237&oe=60AE80ED&_nc_sid=7bff83',\n",
       " 'https://scontent-bom1-2.cdninstagram.com/v/t51.2885-15/e35/s480x480/95127759_610115649587157_2196835963147046660_n.jpg?tp=1&_nc_ht=scontent-bom1-2.cdninstagram.com&_nc_cat=109&_nc_ohc=11MPl5ICEqYAX_oYcNd&edm=ABfd0MgBAAAA&ccb=7-4&oh=f94087fcaa2689fdb954fb8ea9597f90&oe=60AF1B6B&_nc_sid=7bff83',\n",
       " 'https://scontent-bom1-1.cdninstagram.com/v/t51.2885-15/e35/s480x480/88917243_1474651596037950_3322305380788025709_n.jpg?tp=1&_nc_ht=scontent-bom1-1.cdninstagram.com&_nc_cat=106&_nc_ohc=mzNrPujls60AX91R6mJ&edm=ABfd0MgBAAAA&ccb=7-4&oh=bfb328bf88cf6e58701b6da8e59b59b1&oe=60AE8DED&_nc_sid=7bff83',\n",
       " 'https://scontent-bom1-1.cdninstagram.com/v/t51.2885-15/e35/c0.135.1080.1080a/s480x480/80428363_177387036795423_7081892964764215443_n.jpg?tp=1&_nc_ht=scontent-bom1-1.cdninstagram.com&_nc_cat=103&_nc_ohc=g-uu7LU_5m4AX_hx3GQ&edm=ABfd0MgBAAAA&ccb=7-4&oh=8de65acd3059a467a3d244f90c591004&oe=60AE59F9&_nc_sid=7bff83',\n",
       " 'https://scontent-bom1-1.cdninstagram.com/v/t51.2885-15/e35/s480x480/81626581_474038689919825_6691983081514525053_n.jpg?tp=1&_nc_ht=scontent-bom1-1.cdninstagram.com&_nc_cat=105&_nc_ohc=kA8elyJh6JcAX9OpZmP&edm=APU89FABAAAA&ccb=7-4&oh=2aab679ec0da062dfa0103ec8f91f455&oe=60AF48C1&_nc_sid=86f79a',\n",
       " 'https://scontent-bom1-1.cdninstagram.com/v/t51.2885-15/e35/c0.52.1080.1080a/s480x480/79601149_123169969151742_1430423120924441273_n.jpg?tp=1&_nc_ht=scontent-bom1-1.cdninstagram.com&_nc_cat=106&_nc_ohc=0Nuh4FKtdZEAX-lJTlk&edm=APU89FABAAAA&ccb=7-4&oh=d4e0d31f4cd4210e1022bdc46ad53376&oe=60B063AA&_nc_sid=86f79a',\n",
       " 'https://scontent-bom1-2.cdninstagram.com/v/t51.2885-15/e35/s480x480/69519328_138790067482223_3824682917272832417_n.jpg?tp=1&_nc_ht=scontent-bom1-2.cdninstagram.com&_nc_cat=111&_nc_ohc=kYWBjMmSN8MAX_YlNj5&edm=APU89FABAAAA&ccb=7-4&oh=b2a37b711daf96e20d4e66f868d8bd5e&oe=60B0CD4B&_nc_sid=86f79a',\n",
       " 'https://scontent-bom1-2.cdninstagram.com/v/t51.2885-15/e35/c0.75.997.997a/s480x480/69370971_160203715168341_7364989806356066652_n.jpg?tp=1&_nc_ht=scontent-bom1-2.cdninstagram.com&_nc_cat=109&_nc_ohc=buVO23lVB2kAX-oDQ1o&edm=APU89FABAAAA&ccb=7-4&oh=9aadeb6ddb62111e05d682e1773ac9b9&oe=60B10BCC&_nc_sid=86f79a',\n",
       " 'https://scontent-bom1-2.cdninstagram.com/v/t51.2885-15/e15/c0.0.1079.1079a/s480x480/67426275_124934165477385_6088115856428606639_n.jpg?tp=1&_nc_ht=scontent-bom1-2.cdninstagram.com&_nc_cat=109&_nc_ohc=ZQws0LYf3RMAX_VZ4AR&edm=APU89FABAAAA&ccb=7-4&oh=31bb5e74e9fda220a6be99755bea5f3b&oe=60AF507A&_nc_sid=86f79a',\n",
       " 'https://scontent-bom1-1.cdninstagram.com/v/t51.2885-15/e35/c0.131.1080.1080a/s480x480/66041692_2447624388851535_3981636716429918542_n.jpg?tp=1&_nc_ht=scontent-bom1-1.cdninstagram.com&_nc_cat=103&_nc_ohc=3NIFqRi6zywAX-1PDh6&edm=APU89FABAAAA&ccb=7-4&oh=13b8c7ee4e85e96a920a2a6ccff4bf07&oe=60B0C210&_nc_sid=86f79a',\n",
       " 'https://scontent-bom1-2.cdninstagram.com/v/t51.2885-15/e35/c0.90.720.720a/s480x480/65305412_410143762921557_7360250629269092270_n.jpg?tp=1&_nc_ht=scontent-bom1-2.cdninstagram.com&_nc_cat=109&_nc_ohc=LfosEANxlosAX9H4yYP&edm=APU89FABAAAA&ccb=7-4&oh=dc6dd66a7b0e1c62e74b38ebaafcb084&oe=60AE0FE7&_nc_sid=86f79a',\n",
       " 'https://scontent-bom1-1.cdninstagram.com/v/t51.2885-15/e35/c0.45.750.750a/s480x480/61356941_147752489683597_6820531180610609210_n.jpg?tp=1&_nc_ht=scontent-bom1-1.cdninstagram.com&_nc_cat=101&_nc_ohc=ueQTZwdu61sAX8Nj2l8&edm=APU89FABAAAA&ccb=7-4&oh=19db83aa8cf995e6738ced340a5577ea&oe=60AEF235&_nc_sid=86f79a',\n",
       " 'https://scontent-bom1-1.cdninstagram.com/v/t51.2885-15/e35/c0.135.1080.1080a/s480x480/30086963_1550008751793917_2601889478519816192_n.jpg?tp=1&_nc_ht=scontent-bom1-1.cdninstagram.com&_nc_cat=105&_nc_ohc=SoVg5oxmu8kAX_Pwyv-&edm=APU89FABAAAA&ccb=7-4&oh=c0233895733adac9691e9577dfcba395&oe=60AF09B1&_nc_sid=86f79a',\n",
       " 'https://scontent-bom1-2.cdninstagram.com/v/t51.2885-15/e35/s480x480/28429128_1967796920140293_7060034376075051008_n.jpg?tp=1&_nc_ht=scontent-bom1-2.cdninstagram.com&_nc_cat=109&_nc_ohc=u07ddpa-TF4AX9K0emr&edm=APU89FABAAAA&ccb=7-4&oh=40b72e024ce3df6d6f59035d46ca4afa&oe=60B0A375&_nc_sid=86f79a',\n",
       " 'https://scontent-bom1-2.cdninstagram.com/v/t51.2885-15/e35/s480x480/27891554_174359713203274_5821041606597279744_n.jpg?tp=1&_nc_ht=scontent-bom1-2.cdninstagram.com&_nc_cat=110&_nc_ohc=fhW5Ul_z7WYAX9LS3_-&edm=APU89FABAAAA&ccb=7-4&oh=451064998a4467560e6e6685735ada85&oe=60AF51E9&_nc_sid=86f79a',\n",
       " 'https://scontent-bom1-1.cdninstagram.com/v/t51.2885-15/e35/c119.0.841.841a/s480x480/27891320_1124976830973005_5114712691214123008_n.jpg?tp=1&_nc_ht=scontent-bom1-1.cdninstagram.com&_nc_cat=105&_nc_ohc=7Oxa8J4sxbUAX8jPJQH&edm=APU89FABAAAA&ccb=7-4&oh=0422cb4e093e10fbd857ec5df3369cee&oe=60B120CA&_nc_sid=86f79a',\n",
       " 'https://scontent-bom1-1.cdninstagram.com/v/t51.2885-15/e35/c135.0.810.810a/s480x480/27879583_2495680443990337_7852638691829743616_n.jpg?tp=1&_nc_ht=scontent-bom1-1.cdninstagram.com&_nc_cat=101&_nc_ohc=Q4HLQYx5aqQAX-E0XeC&edm=APU89FABAAAA&ccb=7-4&oh=17b780b3d4289206ed4b2ad20edb165e&oe=60AED128&_nc_sid=86f79a',\n",
       " 'https://scontent-bom1-2.cdninstagram.com/v/t51.2885-15/e35/c167.0.745.745a/s480x480/22071190_121128805304340_8886026111218089984_n.jpg?tp=1&_nc_ht=scontent-bom1-2.cdninstagram.com&_nc_cat=100&_nc_ohc=MjftuHL4X6MAX8DQ02O&edm=APU89FABAAAA&ccb=7-4&oh=c9625c8fb9247b122b0539414ac82b05&oe=60B15C80&_nc_sid=86f79a',\n",
       " 'https://scontent-bom1-2.cdninstagram.com/v/t51.2885-15/e35/c57.0.965.965a/s480x480/21984534_378491292583615_2980621567286837248_n.jpg?tp=1&_nc_ht=scontent-bom1-2.cdninstagram.com&_nc_cat=107&_nc_ohc=XXBnmutzkG0AX8tbwcV&edm=APU89FABAAAA&ccb=7-4&oh=a4d8422e9170e60f8f4de52a53d6eac4&oe=60B0DA0F&_nc_sid=86f79a',\n",
       " 'https://scontent-bom1-2.cdninstagram.com/v/t51.2885-15/e35/s480x480/16583944_260765787689134_2120845247217926144_n.jpg?tp=1&_nc_ht=scontent-bom1-2.cdninstagram.com&_nc_cat=110&_nc_ohc=dQnGjlM8WQMAX8zeyn8&edm=APU89FABAAAA&ccb=7-4&oh=d64adfec48fc7c9d71eb92f8c80e1974&oe=60AE1D3A&_nc_sid=86f79a',\n",
       " 'https://scontent-bom1-1.cdninstagram.com/v/t51.2885-15/e35/s480x480/16228546_1671001583192633_2515955824401055744_n.jpg?tp=1&_nc_ht=scontent-bom1-1.cdninstagram.com&_nc_cat=105&_nc_ohc=FagYWZ6It9UAX8dO089&edm=APU89FABAAAA&ccb=7-4&oh=553b4a91cf0095e416c31b07c174a70b&oe=60AEA310&_nc_sid=86f79a',\n",
       " 'https://scontent-bom1-1.cdninstagram.com/v/t51.2885-15/e35/s480x480/14515861_336725186710674_6793333296588652544_n.jpg?tp=1&_nc_ht=scontent-bom1-1.cdninstagram.com&_nc_cat=106&_nc_ohc=B8oqzklwAGAAX9USEO4&edm=APU89FABAAAA&ccb=7-4&oh=d209ef58fb0817438818be178e0fdb5b&oe=60AF406C&_nc_sid=86f79a',\n",
       " 'https://scontent-bom1-1.cdninstagram.com/v/t51.2885-15/e35/s480x480/14540545_1186226834818730_4885321889548861440_n.jpg?tp=1&_nc_ht=scontent-bom1-1.cdninstagram.com&_nc_cat=102&_nc_ohc=rHXzOyAjbvUAX8xBu3e&edm=APU89FABAAAA&ccb=7-4&oh=9736d3fa6d2e4e3cee3c7ca2d31dd7a5&oe=60B08C30&_nc_sid=86f79a',\n",
       " 'https://scontent-bom1-1.cdninstagram.com/v/t51.2885-15/e35/s480x480/14487228_1795336317400935_2047029675821105152_n.jpg?tp=1&_nc_ht=scontent-bom1-1.cdninstagram.com&_nc_cat=103&_nc_ohc=wfm7eqYcc-0AX_U-CR0&edm=APU89FABAAAA&ccb=7-4&oh=c9875c48c4d39a300effb4e8ac51b88d&oe=60B02254&_nc_sid=86f79a',\n",
       " 'https://www.instagram.com/static/images/web/mobile_nav_type_logo.png/735145cfe0a4.png',\n",
       " 'https://scontent-hel3-1.cdninstagram.com/v/t51.2885-19/44884218_345707102882519_2446069589734326272_n.jpg?_nc_ht=scontent-hel3-1.cdninstagram.com&_nc_ohc=KFOCQcdfOBoAX-Fl_Pz&edm=ABmJApABAAAA&ccb=7-4&oh=9432ac25b02762065b7af28e2c485bd4&oe=60AE360F&_nc_sid=6136e7&ig_cache_key=YW5vbnltb3VzX3Byb2ZpbGVfcGlj.2-ccb7-4']"
      ]
     },
     "execution_count": 25,
     "metadata": {},
     "output_type": "execute_result"
    }
   ],
   "source": [
    "images = driver.find_elements_by_tag_name('img')\n",
    "images = [image.get_attribute('src')for image in images] \n",
    "images"
   ]
  },
  {
   "cell_type": "code",
   "execution_count": 26,
   "id": "184921b4",
   "metadata": {},
   "outputs": [
    {
     "ename": "FileExistsError",
     "evalue": "[WinError 183] Cannot create a file when that file already exists: 'C:\\\\Users\\\\chhip\\\\Desktop\\\\wrangling\\\\tarunchhipa'",
     "output_type": "error",
     "traceback": [
      "\u001b[1;31m---------------------------------------------------------------------------\u001b[0m",
      "\u001b[1;31mFileExistsError\u001b[0m                           Traceback (most recent call last)",
      "\u001b[1;32m<ipython-input-26-7ab19474fbd7>\u001b[0m in \u001b[0;36m<module>\u001b[1;34m\u001b[0m\n\u001b[0;32m      1\u001b[0m \u001b[0mpath\u001b[0m\u001b[1;33m=\u001b[0m \u001b[0mos\u001b[0m\u001b[1;33m.\u001b[0m\u001b[0mgetcwd\u001b[0m\u001b[1;33m(\u001b[0m\u001b[1;33m)\u001b[0m\u001b[1;33m\u001b[0m\u001b[1;33m\u001b[0m\u001b[0m\n\u001b[0;32m      2\u001b[0m \u001b[0mpath\u001b[0m \u001b[1;33m=\u001b[0m \u001b[0mos\u001b[0m\u001b[1;33m.\u001b[0m\u001b[0mpath\u001b[0m\u001b[1;33m.\u001b[0m\u001b[0mjoin\u001b[0m\u001b[1;33m(\u001b[0m\u001b[0mpath\u001b[0m\u001b[1;33m,\u001b[0m \u001b[0mkeyword\u001b[0m\u001b[1;33m)\u001b[0m\u001b[1;33m\u001b[0m\u001b[1;33m\u001b[0m\u001b[0m\n\u001b[1;32m----> 3\u001b[1;33m \u001b[0mos\u001b[0m\u001b[1;33m.\u001b[0m\u001b[0mmkdir\u001b[0m\u001b[1;33m(\u001b[0m\u001b[0mpath\u001b[0m\u001b[1;33m)\u001b[0m\u001b[1;33m\u001b[0m\u001b[1;33m\u001b[0m\u001b[0m\n\u001b[0m",
      "\u001b[1;31mFileExistsError\u001b[0m: [WinError 183] Cannot create a file when that file already exists: 'C:\\\\Users\\\\chhip\\\\Desktop\\\\wrangling\\\\tarunchhipa'"
     ]
    }
   ],
   "source": [
    "path= os.getcwd()\n",
    "path = os.path.join(path, keyword)\n",
    "os.mkdir(path)\n"
   ]
  },
  {
   "cell_type": "code",
   "execution_count": null,
   "id": "e5cac68a",
   "metadata": {},
   "outputs": [],
   "source": [
    "counter = 0\n",
    "for image in images:\n",
    "    save_as = os.path.join(path, keyword+str(counter)+\".jpg\")\n",
    "    wget.download(image, save_as)\n",
    "    counter+=1"
   ]
  }
 ],
 "metadata": {
  "kernelspec": {
   "display_name": "Python 3",
   "language": "python",
   "name": "python3"
  },
  "language_info": {
   "codemirror_mode": {
    "name": "ipython",
    "version": 3
   },
   "file_extension": ".py",
   "mimetype": "text/x-python",
   "name": "python",
   "nbconvert_exporter": "python",
   "pygments_lexer": "ipython3",
   "version": "3.9.1"
  }
 },
 "nbformat": 4,
 "nbformat_minor": 5
}
